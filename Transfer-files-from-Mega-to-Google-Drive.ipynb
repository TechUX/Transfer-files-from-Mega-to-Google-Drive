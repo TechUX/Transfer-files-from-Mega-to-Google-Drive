{
  "nbformat": 4,
  "nbformat_minor": 0,
  "metadata": {
    "colab": {
      "provenance": [],
      "machine_shape": "hm"
    },
    "kernelspec": {
      "name": "python3",
      "display_name": "Python 3"
    }
  },
  "cells": [
    {
      "cell_type": "markdown",
      "source": [
        "# Transfer files from Mega to Google Drive\n",
        "**Step 1** -> Mount Google Drive<br>\n",
        "**Step 2** -> Paste the link of file you want to download from Mega to Google Drive<br>\n",
        "**Step 3** -> Run the Cell\n",
        "\n",
        "<u>**Note:**</u><br>\n",
        "If you have Mega Pro Account, Use third cell to login for faster download<br><br>\n",
        "\n",
        "### Subscribe and Follow\n",
        "<center><img src=\"https://i.ibb.co/ykWmgtT/channels4-profile-modified.png\" height=\"60\"> <b>Code Radius</b> </center>\n",
        "\n",
        "- YouTube : [@officialcoderadius](https://youtube.com/@officialcoderadius)\n",
        "- Instagram : [@code.radius](https://www.instagram.com/code.radius/)\n",
        "- Facebook : [@termuxtech](https://www.facebook.com/termuxtech)\n",
        "- GitHub : [@TechUX](https://github.com/TechUX)"
      ],
      "metadata": {
        "id": "l99R3hlqHHA6"
      }
    },
    {
      "cell_type": "markdown",
      "metadata": {
        "id": "VxQ1zquNGKOz"
      },
      "source": [
        "###__[ STEP 1 ] Mount with Google Drive File Stream__"
      ]
    },
    {
      "cell_type": "code",
      "metadata": {
        "id": "tPuLCnbGFmxo",
        "outputId": "7bbb7d10-25d8-4efb-ee38-2145dd0d66e4",
        "colab": {
          "base_uri": "https://localhost:8080/"
        }
      },
      "source": [
        "# @title  { display-mode: \"form\" }\n",
        "# @title  { display-mode: \"form\" }\n",
        "#@markdown <br><center><img src='https://upload.wikimedia.org/wikipedia/commons/thumb/d/da/Google_Drive_logo.png/600px-Google_Drive_logo.png' height=\"50\" alt=\"Gdrive-logo\"/></center>\n",
        "#@markdown <center><h3>Mount GDrive to /content/drive</h3></center><br>\n",
        "MODE = \"MOUNT\" #@param [\"MOUNT\", \"UNMOUNT\"]\n",
        "#Mount your Gdrive!\n",
        "from google.colab import drive\n",
        "drive.mount._DEBUG = False\n",
        "if MODE == \"MOUNT\":\n",
        "  drive.mount('/content/drive', force_remount=True)\n",
        "elif MODE == \"UNMOUNT\":\n",
        "  try:\n",
        "    drive.flush_and_unmount()\n",
        "  except ValueError:\n",
        "    pass\n",
        "  get_ipython().system_raw(\"rm -rf /root/.config/Google/DriveFS\")"
      ],
      "execution_count": 1,
      "outputs": [
        {
          "output_type": "stream",
          "name": "stdout",
          "text": [
            "Mounted at /content/drive\n"
          ]
        }
      ]
    },
    {
      "cell_type": "markdown",
      "metadata": {
        "id": "kSvUMUuTPX7r"
      },
      "source": [
        "##__Transfer from Mega to GDrive__\n",
        "\n",
        "\n",
        "\n"
      ]
    },
    {
      "cell_type": "code",
      "metadata": {
        "id": "XlDyLy_JZJ03"
      },
      "source": [
        "import sys, os, urllib.request\n",
        "import time\n",
        "import subprocess\n",
        "import contextlib\n",
        "from IPython.display import clear_output\n",
        "#@markdown <br><center><img src='https://mega.nz/favicon.ico?v=3' height=\"50\" alt=\"MEGA-logo\"/></center>\n",
        "#@markdown <center><h2>Transfer from Mega to GDrive</h2></center><br>\n",
        "HOME = os.path.expanduser(\"~\")\n",
        "if not os.path.exists(f\"{HOME}/.ipython/ocr.py\"):\n",
        "    hCode = \"https://raw.githubusercontent.com/biplobsd/\" \\\n",
        "                \"OneClickRun/master/res/ocr.py\"\n",
        "    urllib.request.urlretrieve(hCode, f\"{HOME}/.ipython/ocr.py\")\n",
        "\n",
        "from ocr import (\n",
        "    runSh,\n",
        "    loadingAn,\n",
        ")\n",
        "# @title [ STEP 2 ] MEGA Public Link Download { display-mode: \"form\" }\n",
        "URL = \"https://mega.nz/file/FFcyRbAD#uBhTE3QF3yjIwRink6k04J0jUKSii73Bh47hEmZVmLk\" #@param {type:\"string\"}\n",
        "OUTPUT_PATH = \"\" #@param {type:\"string\"}\n",
        "#@markdown #####_*Sometimes this cell doesn't stop itself after the completion of the transfer. In case of that stop the cell manually._\n",
        "if not OUTPUT_PATH:\n",
        "  os.makedirs(\"downloads\", exist_ok=True)\n",
        "  OUTPUT_PATH = \"/content/drive/MyDrive\"\n",
        "\n",
        "# MEGAcmd installing\n",
        "if not os.path.exists(\"/usr/bin/mega-cmd\"):\n",
        "    loadingAn()\n",
        "    print(\"Installing MEGA ...\")\n",
        "    runSh('sudo apt --fix-broken install')\n",
        "    runSh('sudo apt-get -y update')\n",
        "    runSh('sudo apt install libc-ares2 libcrypto++6 libmediainfo0v5 libzen0v5')\n",
        "    runSh('sudo apt-get install libmediainfo0v5')\n",
        "    runSh('sudo curl -sL -o /var/cache/apt/archives/libcrypto++6_5.6.4-9build1_amd64.deb http://kr.archive.ubuntu.com/ubuntu/pool/universe/libc/libcrypto++/libcrypto++6_5.6.4-9build1_amd64.deb', output=True)\n",
        "    runSh('sudo dpkg -i /var/cache/apt/archives/libcrypto++6_5.6.4-9build1_amd64.deb', output=True)\n",
        "    runSh('sudo curl -sL -o /var/cache/apt/archives/libssl1.1_1.1.1f-1ubuntu2.20_amd64.deb http://security.ubuntu.com/ubuntu/pool/main/o/openssl/libssl1.1_1.1.1f-1ubuntu2.20_amd64.deb', output=True)\n",
        "    runSh('sudo dpkg -i /var/cache/apt/archives/libssl1.1_1.1.1f-1ubuntu2.20_amd64.deb', output=True)\n",
        "    runSh('sudo curl -sL -o /var/cache/apt/archives/megacmd-xUbuntu_18.04_amd64.deb https://mega.nz/linux/MEGAsync/xUbuntu_18.04/amd64/megacmd-xUbuntu_18.04_amd64.deb', output=True)\n",
        "    runSh('sudo dpkg -i /var/cache/apt/archives/megacmd-xUbuntu_18.04_amd64.deb', output=True)\n",
        "    print(\"MEGA is installed.\")\n",
        "    clear_output()\n",
        "\n",
        "\n",
        "# Unix, Windows and old Macintosh end-of-line\n",
        "newlines = ['\\n', '\\r\\n', '\\r']\n",
        "\n",
        "def unbuffered(proc, stream='stdout'):\n",
        "    stream = getattr(proc, stream)\n",
        "    with contextlib.closing(stream):\n",
        "        while True:\n",
        "            out = []\n",
        "            last = stream.read(1)\n",
        "            # Don't loop forever\n",
        "            if last == '' and proc.poll() is not None:\n",
        "                break\n",
        "            while last not in newlines:\n",
        "                # Don't loop forever\n",
        "                if last == '' and proc.poll() is not None:\n",
        "                    break\n",
        "                out.append(last)\n",
        "                last = stream.read(1)\n",
        "            out = ''.join(out)\n",
        "            yield out\n",
        "\n",
        "\n",
        "def transfare():\n",
        "    import codecs\n",
        "    decoder = codecs.getincrementaldecoder(\"UTF-8\")()\n",
        "    cmd = [\"mega-get\", URL, OUTPUT_PATH]\n",
        "    proc = subprocess.Popen(\n",
        "        cmd,\n",
        "        stdout=subprocess.PIPE,\n",
        "        stderr=subprocess.STDOUT,\n",
        "        # Make all end-of-lines '\\n'\n",
        "        universal_newlines=True,\n",
        "    )\n",
        "    for line in unbuffered(proc):\n",
        "        print(line)\n",
        "\n",
        "\n",
        "\n",
        "transfare()\n",
        "\n"
      ],
      "execution_count": null,
      "outputs": []
    },
    {
      "cell_type": "markdown",
      "source": [
        "## If you have a Mega Pro account, sign in to use its bandwidth(transfer quota)"
      ],
      "metadata": {
        "id": "e3rcHr4iIo3H"
      }
    },
    {
      "cell_type": "code",
      "source": [
        "# @title  { display-mode: \"form\" }\n",
        "# @markdown Input Your Mega ID\n",
        "\n",
        "from functools import wraps\n",
        "import errno\n",
        "import os\n",
        "import signal\n",
        "import subprocess\n",
        "import shlex\n",
        "\n",
        "\n",
        "class TimeoutError(Exception):\n",
        "    pass\n",
        "\n",
        "\n",
        "def timeout(seconds=10, error_message=os.strerror(errno.ETIME)):\n",
        "    def decorator(func):\n",
        "        def _handle_timeout(signum, frame):\n",
        "            raise TimeoutError(error_message)\n",
        "\n",
        "        def wrapper(*args, **kwargs):\n",
        "            signal.signal(signal.SIGALRM, _handle_timeout)\n",
        "            signal.alarm(seconds)\n",
        "            try:\n",
        "                result = func(*args, **kwargs)\n",
        "            finally:\n",
        "                signal.alarm(0)\n",
        "            return result\n",
        "\n",
        "        return wraps(func)(wrapper)\n",
        "\n",
        "    return decorator\n",
        "\n",
        "\n",
        "if not os.path.exists(\"/root/.ipython/ocr.py\"):\n",
        "    from subprocess import run\n",
        "    from shlex import split\n",
        "\n",
        "    shellCmd = \"wget -qq https://raw.githubusercontent.com/biplobsd/OneClickRun/master/res/ocr.py \\\n",
        "                    -O /root/.ipython/ocr.py\"\n",
        "    run(split(shellCmd))\n",
        "from ocr import runSh\n",
        "\n",
        "@timeout(10)\n",
        "def runShT(args):\n",
        "    return runSh(args, output=True)\n",
        "\n",
        "\n",
        "# MEGAcmd installing\n",
        "if not os.path.exists(\"/usr/bin/mega-cmd\"):\n",
        "    print(\"Installing MEGA ...\")\n",
        "    runSh('sudo apt-get -y update')\n",
        "    runSh('sudo apt-get -y install libmms0 libc-ares2 libc6 libcrypto++6 libgcc1 libmediainfo0v5 libpcre3 libpcrecpp0v5 libssl1.1 libstdc++6 libzen0v5 zlib1g apt-transport-https')\n",
        "    runSh('sudo curl -sL -o /var/cache/apt/archives/MEGAcmd.deb https://mega.nz/linux/MEGAsync/Debian_9.0/amd64/megacmd-Debian_9.0_amd64.deb', output=True)\n",
        "    runSh('sudo dpkg -i /var/cache/apt/archives/MEGAcmd.deb', output=True)\n",
        "    print(\"MEGA is installed.\")\n",
        "else:\n",
        "    !pkill mega-cmd\n",
        "\n",
        "# INPUT YOUR MEGA ID\n",
        "\n",
        "USERNAME = \"\"  # @param {type:\"string\"}\n",
        "PASSWORD = \"\"  # @param {type:\"string\"}\n",
        "if not (USERNAME == \"\" or PASSWORD == \"\"):\n",
        "    try:\n",
        "        runShT(f\"mega-login {USERNAME} {PASSWORD}\")\n",
        "    except TimeoutError:\n",
        "        runSh('mega-whoami', output=True)\n",
        "else:\n",
        "    print(\"Please Input your Mega IDs.\")\n",
        "# @markdown *After signing in, use the above cell(Main Cell) to transfer files from Mega to GDrive using the transfer quota of your Mega Pro Account*\n"
      ],
      "metadata": {
        "id": "kgOyL3faHZZw"
      },
      "execution_count": null,
      "outputs": []
    },
    {
      "cell_type": "markdown",
      "source": [
        "# Subscribe and Follow\n",
        "- YouTube : [@officialcoderadius](https://youtube.com/@officialcoderadius)\n",
        "- Instagram : [@code.radius](https://www.instagram.com/code.radius/)\n",
        "- Facebook : [@termuxtech](https://www.facebook.com/termuxtech)\n",
        "- GitHub : [@TechUX](https://github.com/TechUX)\n",
        "- Telegram : [@myfreepremium](https://t.me/myfreepremium)\n",
        "\n",
        "---\n",
        "**Join Now**\n",
        "- Premium Giveaway - [@myfreepremium](https://t.me/myfreepremium)<br>\n",
        "- Group - [Turtle Club](https://t.me/TurtleClub5)\n"
      ],
      "metadata": {
        "id": "_AcFq7p9LAN7"
      }
    }
  ]
}
